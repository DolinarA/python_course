{
 "cells": [
  {
   "cell_type": "markdown",
   "id": "e10c851b",
   "metadata": {},
   "source": [
    "# Excel grafi"
   ]
  },
  {
   "cell_type": "code",
   "execution_count": 32,
   "id": "177a5910",
   "metadata": {},
   "outputs": [],
   "source": [
    "import pandas as pd\n",
    "import fnmatch\n",
    "import os\n",
    "from matplotlib import pyplot as plt"
   ]
  },
  {
   "cell_type": "code",
   "execution_count": 17,
   "id": "6f01da0a",
   "metadata": {},
   "outputs": [],
   "source": [
    "def get_absolute_file_paths(folder_name: str, filter: str = \"*\") -> list[str]:\n",
    "    \"\"\"Reads names of files in a folder and returns a list of files.\"\"\"\n",
    "    # filter default: * - all files (defined in function arguments)\n",
    "    absolute_paths = []\n",
    "    for dirpath, _, filenames in os.walk(folder_name):\n",
    "        for filename in filenames:\n",
    "            if fnmatch.fnmatch(filename, filter):\n",
    "                absolute_path = os.path.abspath(os.path.join(dirpath, filename))\n",
    "                absolute_paths.append(absolute_path)\n",
    "    return absolute_paths"
   ]
  },
  {
   "cell_type": "code",
   "execution_count": 30,
   "id": "803908fe",
   "metadata": {},
   "outputs": [
    {
     "name": "stdout",
     "output_type": "stream",
     "text": [
      "Directory images does not exist. Creating it.\n"
     ]
    }
   ],
   "source": [
    "images_dir = \"images\"\n",
    "\n",
    "if not os.path.exists(images_dir):\n",
    "    print(f\"Directory {images_dir} does not exist. Creating it.\")\n",
    "    os.makedirs(images_dir, exist_ok=True)"
   ]
  },
  {
   "cell_type": "code",
   "execution_count": null,
   "id": "848c1c8a",
   "metadata": {},
   "outputs": [],
   "source": [
    "for path in paths:\n",
    "    data = pd.read_excel(paths[0], sheet_name=\"izračuni\", header=None)\n",
    "    data = data.iloc[-2:, :].T\n",
    "    data = data.set_index(data[26], drop=True)\n",
    "    data.drop(columns=[26], inplace=True)\n",
    "    data.columns = [\"average\"]\n",
    "    data.drop(index=data.index[0], axis=0, inplace=True)\n",
    "    data.plot(kind=\"bar\", title=\"Graf\", xlabel=\"Koncentracija\")\n",
    "    file_name = os.path.basename(path)\n",
    "    plt.savefig(f\"{images_dir}/{file_name}.png\")"
   ]
  }
 ],
 "metadata": {
  "kernelspec": {
   "display_name": "Python 3 (ipykernel)",
   "language": "python",
   "name": "python3"
  },
  "language_info": {
   "codemirror_mode": {
    "name": "ipython",
    "version": 3
   },
   "file_extension": ".py",
   "mimetype": "text/x-python",
   "name": "python",
   "nbconvert_exporter": "python",
   "pygments_lexer": "ipython3",
   "version": "3.11.4"
  }
 },
 "nbformat": 4,
 "nbformat_minor": 5
}
